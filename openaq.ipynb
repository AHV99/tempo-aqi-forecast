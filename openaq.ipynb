{
 "cells": [
  {
   "metadata": {
    "ExecuteTime": {
     "end_time": "2025-10-06T00:12:13.800087Z",
     "start_time": "2025-10-06T00:12:13.794643Z"
    }
   },
   "cell_type": "code",
   "source": [
    "from geopy.distance import geodesic\n",
    "import requests\n",
    "\n",
    "def get_nearest_station(lat, lon, radius_km=100):\n",
    "    \"\"\"\n",
    "    Devuelve la estación más cercana de OpenAQ dentro del radio dado.\n",
    "    Si no hay estaciones en el radio, devuelve None.\n",
    "    \"\"\"\n",
    "    url = \"https://api.openaq.org/v3/locations\"\n",
    "    params = {\n",
    "        \"coordinates\": f\"{lat},{lon}\",\n",
    "        \"radius\": radius_km * 1000,  # en metros\n",
    "        \"limit\": 100\n",
    "    }\n",
    "\n",
    "    r = requests.get(url, headers=headers, params=params)\n",
    "    if r.status_code != 200:\n",
    "        raise Exception(f\"Error {r.status_code}: {r.text}\")\n",
    "\n",
    "    results = r.json().get(\"results\", [])\n",
    "    if not results:\n",
    "        return None\n",
    "\n",
    "    # calcular distancia geodésica y elegir la más cercana\n",
    "    for s in results:\n",
    "        s[\"distance_km\"] = geodesic(\n",
    "            (lat, lon),\n",
    "            (s[\"coordinates\"][\"latitude\"], s[\"coordinates\"][\"longitude\"])\n",
    "        ).km\n",
    "\n",
    "    nearest = min(results, key=lambda x: x[\"distance_km\"])\n",
    "    return nearest\n",
    "\n",
    "def has_station_nearby(lat, lon, max_km=25):\n",
    "    params = {\"coordinates\": f\"{lat},{lon}\", \"radius\": max_km*1000}\n",
    "    r = requests.get(\"https://api.openaq.org/v3/locations\", headers=headers, params=params)\n",
    "    return len(r.json().get(\"results\", [])) > 0\n"
   ],
   "id": "4f83e714a72c88c8",
   "outputs": [],
   "execution_count": 24
  },
  {
   "metadata": {
    "ExecuteTime": {
     "end_time": "2025-10-06T00:02:09.684843Z",
     "start_time": "2025-10-06T00:02:09.681865Z"
    }
   },
   "cell_type": "code",
   "source": [
    "def get_station_data(station):\n",
    "    \"\"\"\n",
    "    Extrae de un objeto de estación (ya devuelto por get_nearest_station)\n",
    "    los valores más recientes de cada contaminante.\n",
    "    \"\"\"\n",
    "    sensors = station.get(\"sensors\", [])\n",
    "    data = []\n",
    "    for s in sensors:\n",
    "        param = s[\"parameter\"]\n",
    "        data.append({\n",
    "            \"station_id\": station[\"id\"],\n",
    "            \"station_name\": station[\"name\"],\n",
    "            \"parameter\": param[\"name\"],\n",
    "            \"display\": param[\"displayName\"],\n",
    "            \"unit\": param[\"units\"],\n",
    "            \"sensor_name\": s[\"name\"],\n",
    "            \"sensor_id\": s[\"id\"],\n",
    "            \"datetime_last\": station.get(\"datetimeLast\", {}).get(\"utc\"),\n",
    "            \"country\": station[\"country\"][\"name\"],\n",
    "            \"provider\": station[\"provider\"][\"name\"],\n",
    "            \"distance_km\": round(station[\"distance_km\"], 3),\n",
    "        })\n",
    "    return data\n",
    "\n"
   ],
   "id": "dad458db6242b7c3",
   "outputs": [],
   "execution_count": 7
  },
  {
   "metadata": {
    "ExecuteTime": {
     "end_time": "2025-10-06T00:07:56.034986Z",
     "start_time": "2025-10-06T00:07:56.029573Z"
    }
   },
   "cell_type": "code",
   "source": [
    "import requests\n",
    "from datetime import datetime, timedelta, timezone\n",
    "\n",
    "def get_station_measurements(location_id, hours=24):\n",
    "    \"\"\"\n",
    "    Devuelve los valores recientes de TODOS los sensores de una estación.\n",
    "    \"\"\"\n",
    "    import requests\n",
    "    from datetime import datetime, timedelta, timezone\n",
    "\n",
    "    url = \"https://api.openaq.org/v3/measurements\"\n",
    "    date_to = datetime.now(timezone.utc)\n",
    "    date_from = date_to - timedelta(hours=hours)\n",
    "\n",
    "    params = {\n",
    "        \"location_id\": location_id,\n",
    "        \"date_from\": date_from.isoformat(timespec=\"seconds\"),\n",
    "        \"date_to\": date_to.isoformat(timespec=\"seconds\"),\n",
    "        \"limit\": 200,\n",
    "        \"sort\": \"desc\"\n",
    "    }\n",
    "\n",
    "    r = requests.get(url, headers=headers, params=params)\n",
    "    if r.status_code != 200:\n",
    "        raise Exception(f\"Error {r.status_code}: {r.text}\")\n",
    "\n",
    "    data = r.json()[\"results\"]\n",
    "\n",
    "    # Tomar el último valor por parámetro\n",
    "    latest = {}\n",
    "    for m in data:\n",
    "        param = m[\"parameter\"][\"name\"]\n",
    "        if param not in latest:\n",
    "            latest[param] = {\n",
    "                \"display\": m[\"parameter\"][\"displayName\"],\n",
    "                \"value\": m[\"value\"],\n",
    "                \"unit\": m[\"unit\"],\n",
    "                \"utc\": m[\"date\"][\"utc\"]\n",
    "            }\n",
    "\n",
    "    return latest"
   ],
   "id": "bb920ce5ee4198b",
   "outputs": [],
   "execution_count": 19
  },
  {
   "metadata": {
    "ExecuteTime": {
     "end_time": "2025-10-06T00:09:14.252321Z",
     "start_time": "2025-10-06T00:09:13.253537Z"
    }
   },
   "cell_type": "code",
   "source": [
    "from dotenv import load_dotenv\n",
    "import os\n",
    "load_dotenv()\n",
    "\n",
    "API_KEY = api_key = os.getenv(\"API_KEY\")\n",
    "\n",
    "headers = {\"X-API-Key\": API_KEY}\n",
    "\n",
    "station = get_nearest_station(19.4326, -99.1332, radius_km=25)\n",
    "\n",
    "print(station)\n",
    "for s in station[\"sensors\"]:\n",
    "    print(f\" - {s['parameter']['displayName']} ({s['parameter']['name']}) [{s['parameter']['units']}]\")\n",
    "\n",
    "latest_data = get_station_data(station)\n",
    "for d in latest_data:\n",
    "    print(f\"{d['display']}: {d['sensor_name']} ({d['unit']})  Último dato: {d['datetime_last']}\")\n"
   ],
   "id": "2d02d7047c1bdfa5",
   "outputs": [
    {
     "name": "stdout",
     "output_type": "stream",
     "text": [
      "{'id': 10748, 'name': 'Merced', 'locality': 'Venustiano Carranza', 'timezone': 'America/Mexico_City', 'country': {'id': 157, 'code': 'MX', 'name': 'Mexico'}, 'owner': {'id': 4, 'name': 'Unknown Governmental Organization'}, 'provider': {'id': 223, 'name': 'Sinaica Mexico'}, 'isMobile': False, 'isMonitor': True, 'instruments': [{'id': 2, 'name': 'Government Monitor'}], 'sensors': [{'id': 35864, 'name': 'co ppm', 'parameter': {'id': 8, 'name': 'co', 'units': 'ppm', 'displayName': 'CO'}}, {'id': 4275660, 'name': 'no ppm', 'parameter': {'id': 35, 'name': 'no', 'units': 'ppm', 'displayName': 'NO'}}, {'id': 35861, 'name': 'no2 ppm', 'parameter': {'id': 7, 'name': 'no2', 'units': 'ppm', 'displayName': 'NO₂'}}, {'id': 4275914, 'name': 'nox ppm', 'parameter': {'id': 19840, 'name': 'nox', 'units': 'ppm', 'displayName': 'NOx'}}, {'id': 35860, 'name': 'o3 ppm', 'parameter': {'id': 10, 'name': 'o3', 'units': 'ppm', 'displayName': 'O₃'}}, {'id': 35857, 'name': 'pm10 µg/m³', 'parameter': {'id': 1, 'name': 'pm10', 'units': 'µg/m³', 'displayName': 'PM10'}}, {'id': 35849, 'name': 'pm25 µg/m³', 'parameter': {'id': 2, 'name': 'pm25', 'units': 'µg/m³', 'displayName': 'PM2.5'}}, {'id': 35859, 'name': 'so2 ppm', 'parameter': {'id': 9, 'name': 'so2', 'units': 'ppm', 'displayName': 'SO₂'}}], 'coordinates': {'latitude': 19.424722222222, 'longitude': -99.119722222222}, 'licenses': [{'id': 36, 'name': 'Mexico SINAICA Terms and Conditions', 'attribution': {'name': 'Unknown Governmental Organization', 'url': None}, 'dateFrom': '2016-03-07', 'dateTo': None}], 'bounds': [-99.119722222222, 19.424722222222, -99.119722222222, 19.424722222222], 'distance': 1662.50028293, 'datetimeFirst': {'utc': '2020-10-16T00:00:00Z', 'local': '2020-10-15T19:00:00-05:00'}, 'datetimeLast': {'utc': '2025-10-05T23:00:00Z', 'local': '2025-10-05T17:00:00-06:00'}, 'distance_km': 1.6625002829260571}\n",
      " - CO (co) [ppm]\n",
      " - NO (no) [ppm]\n",
      " - NO₂ (no2) [ppm]\n",
      " - NOx (nox) [ppm]\n",
      " - O₃ (o3) [ppm]\n",
      " - PM10 (pm10) [µg/m³]\n",
      " - PM2.5 (pm25) [µg/m³]\n",
      " - SO₂ (so2) [ppm]\n",
      "CO: co ppm (ppm)  Último dato: 2025-10-05T23:00:00Z\n",
      "NO: no ppm (ppm)  Último dato: 2025-10-05T23:00:00Z\n",
      "NO₂: no2 ppm (ppm)  Último dato: 2025-10-05T23:00:00Z\n",
      "NOx: nox ppm (ppm)  Último dato: 2025-10-05T23:00:00Z\n",
      "O₃: o3 ppm (ppm)  Último dato: 2025-10-05T23:00:00Z\n",
      "PM10: pm10 µg/m³ (µg/m³)  Último dato: 2025-10-05T23:00:00Z\n",
      "PM2.5: pm25 µg/m³ (µg/m³)  Último dato: 2025-10-05T23:00:00Z\n",
      "SO₂: so2 ppm (ppm)  Último dato: 2025-10-05T23:00:00Z\n"
     ]
    }
   ],
   "execution_count": 22
  },
  {
   "metadata": {
    "ExecuteTime": {
     "end_time": "2025-10-06T00:09:16.330644Z",
     "start_time": "2025-10-06T00:09:15.753476Z"
    }
   },
   "cell_type": "code",
   "source": "print(get_station_measurements(station[\"id\"]))\n",
   "id": "4f9c15bcf5153329",
   "outputs": [
    {
     "ename": "Exception",
     "evalue": "Error 404: {\"detail\":\"Not Found\"}",
     "output_type": "error",
     "traceback": [
      "\u001B[31m---------------------------------------------------------------------------\u001B[39m",
      "\u001B[31mException\u001B[39m                                 Traceback (most recent call last)",
      "\u001B[36mCell\u001B[39m\u001B[36m \u001B[39m\u001B[32mIn[23]\u001B[39m\u001B[32m, line 1\u001B[39m\n\u001B[32m----> \u001B[39m\u001B[32m1\u001B[39m \u001B[38;5;28mprint\u001B[39m(\u001B[43mget_station_measurements\u001B[49m\u001B[43m(\u001B[49m\u001B[43mstation\u001B[49m\u001B[43m[\u001B[49m\u001B[33;43m\"\u001B[39;49m\u001B[33;43mid\u001B[39;49m\u001B[33;43m\"\u001B[39;49m\u001B[43m]\u001B[49m\u001B[43m)\u001B[49m)\n",
      "\u001B[36mCell\u001B[39m\u001B[36m \u001B[39m\u001B[32mIn[19]\u001B[39m\u001B[32m, line 25\u001B[39m, in \u001B[36mget_station_measurements\u001B[39m\u001B[34m(location_id, hours)\u001B[39m\n\u001B[32m     23\u001B[39m r = requests.get(url, headers=headers, params=params)\n\u001B[32m     24\u001B[39m \u001B[38;5;28;01mif\u001B[39;00m r.status_code != \u001B[32m200\u001B[39m:\n\u001B[32m---> \u001B[39m\u001B[32m25\u001B[39m     \u001B[38;5;28;01mraise\u001B[39;00m \u001B[38;5;167;01mException\u001B[39;00m(\u001B[33mf\u001B[39m\u001B[33m\"\u001B[39m\u001B[33mError \u001B[39m\u001B[38;5;132;01m{\u001B[39;00mr.status_code\u001B[38;5;132;01m}\u001B[39;00m\u001B[33m: \u001B[39m\u001B[38;5;132;01m{\u001B[39;00mr.text\u001B[38;5;132;01m}\u001B[39;00m\u001B[33m\"\u001B[39m)\n\u001B[32m     27\u001B[39m data = r.json()[\u001B[33m\"\u001B[39m\u001B[33mresults\u001B[39m\u001B[33m\"\u001B[39m]\n\u001B[32m     29\u001B[39m \u001B[38;5;66;03m# Tomar el último valor por parámetro\u001B[39;00m\n",
      "\u001B[31mException\u001B[39m: Error 404: {\"detail\":\"Not Found\"}"
     ]
    }
   ],
   "execution_count": 23
  },
  {
   "metadata": {},
   "cell_type": "code",
   "outputs": [],
   "execution_count": null,
   "source": "",
   "id": "8527b7360294135e"
  }
 ],
 "metadata": {
  "kernelspec": {
   "display_name": "NASA",
   "language": "python",
   "name": "dataspell-env"
  },
  "language_info": {
   "codemirror_mode": {
    "name": "ipython",
    "version": 2
   },
   "file_extension": ".py",
   "mimetype": "text/x-python",
   "name": "python",
   "nbconvert_exporter": "python",
   "pygments_lexer": "ipython2",
   "version": "2.7.6"
  }
 },
 "nbformat": 4,
 "nbformat_minor": 5
}
